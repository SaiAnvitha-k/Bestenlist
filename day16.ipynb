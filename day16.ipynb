{
 "cells": [
  {
   "cell_type": "markdown",
   "id": "47b77e57",
   "metadata": {},
   "source": [
    "create a lambda function that multiples argument x with argument y"
   ]
  },
  {
   "cell_type": "code",
   "execution_count": 10,
   "id": "4a5b70a3",
   "metadata": {},
   "outputs": [
    {
     "name": "stdout",
     "output_type": "stream",
     "text": [
      "8\n"
     ]
    }
   ],
   "source": [
    "doubler = lambda x,y:x*y\n",
    "print(doubler(2,4))"
   ]
  },
  {
   "cell_type": "raw",
   "id": "7e12386f",
   "metadata": {},
   "source": [
    "create a fibonacci series to n using lamba"
   ]
  },
  {
   "cell_type": "code",
   "execution_count": 11,
   "id": "0aef7f0b",
   "metadata": {},
   "outputs": [
    {
     "name": "stdout",
     "output_type": "stream",
     "text": [
      "[0, 1, 1, 2, 3, 5]\n"
     ]
    }
   ],
   "source": [
    "from functools import reduce\n",
    "  \n",
    "fib = lambda n: reduce(lambda x, _: x+[x[-1]+x[-2]],\n",
    "                                 range(n-2), [0, 1])\n",
    "  \n",
    "print(fib(6))"
   ]
  },
  {
   "cell_type": "markdown",
   "id": "8da4e495",
   "metadata": {},
   "source": [
    "multiply each number of given list with a given number"
   ]
  },
  {
   "cell_type": "code",
   "execution_count": 12,
   "id": "9a661e11",
   "metadata": {},
   "outputs": [
    {
     "name": "stdout",
     "output_type": "stream",
     "text": [
      "Original list:  [4, 6, 8, 10]\n",
      "Given number:  2\n",
      "Result:\n",
      "8 12 16 20\n"
     ]
    }
   ],
   "source": [
    "nums = [ 4, 6, 8 , 10]\n",
    "n = 2\n",
    "print(\"Original list: \", nums)\n",
    "print(\"Given number: \", n)\n",
    "filtered_numbers=list(map(lambda number:number*n,nums))\n",
    "print(\"Result:\")\n",
    "print(' '.join(map(str,filtered_numbers)))"
   ]
  },
  {
   "cell_type": "markdown",
   "id": "d7d29101",
   "metadata": {},
   "source": [
    "find numbers divisible by 9 from a list of numbers"
   ]
  },
  {
   "cell_type": "code",
   "execution_count": 13,
   "id": "e26ec40b",
   "metadata": {},
   "outputs": [
    {
     "name": "stdout",
     "output_type": "stream",
     "text": [
      "\n",
      "Numbers of the above list divisible by nine:\n",
      "[18, 45, 72, 90]\n"
     ]
    }
   ],
   "source": [
    "nums = [18,21,30,45,50,67,72,90,96]\n",
    "result = list(filter(lambda x: (x % 9 == 0 ), nums))\n",
    "print(\"\\nNumbers of the above list divisible by nine:\")\n",
    "print(result)"
   ]
  },
  {
   "cell_type": "markdown",
   "id": "1cdf711a",
   "metadata": {},
   "source": [
    "count the even numbers in a given list of integers"
   ]
  },
  {
   "cell_type": "code",
   "execution_count": 14,
   "id": "5339ebec",
   "metadata": {},
   "outputs": [
    {
     "name": "stdout",
     "output_type": "stream",
     "text": [
      "\n",
      "Number of even numbers in the above list: 5\n"
     ]
    }
   ],
   "source": [
    "nums = [18,21,24,27,33,36,39,42,47,50]\n",
    "even_nums = len(list(filter(lambda x: (x%2 == 0) , nums)))\n",
    "print(\"\\nNumber of even numbers in the above list:\",even_nums)"
   ]
  }
 ],
 "metadata": {
  "kernelspec": {
   "display_name": "Python 3",
   "language": "python",
   "name": "python3"
  },
  "language_info": {
   "codemirror_mode": {
    "name": "ipython",
    "version": 3
   },
   "file_extension": ".py",
   "mimetype": "text/x-python",
   "name": "python",
   "nbconvert_exporter": "python",
   "pygments_lexer": "ipython3",
   "version": "3.9.1"
  }
 },
 "nbformat": 4,
 "nbformat_minor": 5
}
