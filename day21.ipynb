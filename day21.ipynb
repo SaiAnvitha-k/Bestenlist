{
 "cells": [
  {
   "cell_type": "markdown",
   "id": "faae36c9",
   "metadata": {},
   "source": [
    "Write a program using zip() function and list() function, create a merged list of tuples from the two lists given"
   ]
  },
  {
   "cell_type": "code",
   "execution_count": 1,
   "id": "51aa5492",
   "metadata": {},
   "outputs": [
    {
     "name": "stdout",
     "output_type": "stream",
     "text": [
      "<zip object at 0x000002A2B9FF82C0>\n"
     ]
    },
    {
     "data": {
      "text/plain": [
       "[('sun', 'mercury'), ('moon', 'venus'), ('stars', 'earth')]"
      ]
     },
     "execution_count": 1,
     "metadata": {},
     "output_type": "execute_result"
    }
   ],
   "source": [
    "planet = ('mercury', 'venus', 'earth', 'mars', 'jupiter', 'saturn', 'uranus', 'neptune')\n",
    "star = ('sun', 'moon', 'stars')\n",
    "x = zip(star, planet)\n",
    "print(x)\n",
    "list(x)"
   ]
  },
  {
   "cell_type": "markdown",
   "id": "a187b77b",
   "metadata": {},
   "source": [
    "First create a range from 1 to 8. Then using zip, merge the given list and the range together to create a new list of tuples"
   ]
  },
  {
   "cell_type": "code",
   "execution_count": 2,
   "id": "3a5fe737",
   "metadata": {},
   "outputs": [
    {
     "name": "stdout",
     "output_type": "stream",
     "text": [
      "1\n",
      "2\n",
      "3\n",
      "4\n",
      "5\n",
      "6\n",
      "7\n",
      "8\n",
      "<zip object at 0x000002A2BA030200>\n"
     ]
    },
    {
     "data": {
      "text/plain": [
       "((1, 'a'), (2, 'b'), (3, 'c'), (4, 'd'), (5, 'e'))"
      ]
     },
     "execution_count": 2,
     "metadata": {},
     "output_type": "execute_result"
    }
   ],
   "source": [
    "alphabets = ['a', 'b', 'c', 'd', 'e']\n",
    "y = range(1,9)\n",
    "for n in y:\n",
    "    print(n)\n",
    "zipped = zip(y, alphabets)\n",
    "print(zipped)\n",
    "tuple(zipped)\n"
   ]
  },
  {
   "cell_type": "markdown",
   "id": "17f2d178",
   "metadata": {},
   "source": [
    "Using sorted() function, sort the list in ascending order"
   ]
  },
  {
   "cell_type": "code",
   "execution_count": 3,
   "id": "0106dbbb",
   "metadata": {},
   "outputs": [
    {
     "name": "stdout",
     "output_type": "stream",
     "text": [
      "['earth', 'jupiter', 'mars', 'mercury', 'neptune', 'saturn', 'uranus', 'venus']\n"
     ]
    }
   ],
   "source": [
    "a = sorted(planet)\n",
    "print(a)"
   ]
  },
  {
   "cell_type": "markdown",
   "id": "76cc2dc1",
   "metadata": {},
   "source": [
    "Write a program using filter function, filter the even numbers so that only odd numbers are passed to the new list"
   ]
  },
  {
   "cell_type": "code",
   "execution_count": 4,
   "id": "729fde9b",
   "metadata": {},
   "outputs": [
    {
     "name": "stdout",
     "output_type": "stream",
     "text": [
      "the new numbers are: \n",
      "['1', '3', '5', '7']\n"
     ]
    }
   ],
   "source": [
    "def num(variable):\n",
    "    letters = ['1', '3', '5', '7']\n",
    "    if variable in letters:\n",
    "        return True\n",
    "    else:\n",
    "        return False\n",
    "\n",
    "\n",
    "# sequence\n",
    "sequence = ['1', '2', '3', '4', '5', '6', '7']\n",
    "\n",
    "# using filter function\n",
    "filtered = filter(num, sequence)\n",
    "\n",
    "print('the new numbers are: ')\n",
    "b = list(filtered)\n",
    "print(b)\n"
   ]
  }
 ],
 "metadata": {
  "kernelspec": {
   "display_name": "Python 3",
   "language": "python",
   "name": "python3"
  },
  "language_info": {
   "codemirror_mode": {
    "name": "ipython",
    "version": 3
   },
   "file_extension": ".py",
   "mimetype": "text/x-python",
   "name": "python",
   "nbconvert_exporter": "python",
   "pygments_lexer": "ipython3",
   "version": "3.9.1"
  }
 },
 "nbformat": 4,
 "nbformat_minor": 5
}
