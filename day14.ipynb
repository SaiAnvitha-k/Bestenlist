{
 "cells": [
  {
   "cell_type": "markdown",
   "id": "2249d5a1",
   "metadata": {},
   "source": [
    "List down all the errors and check the errors using python\n",
    "syntax errors\n",
    "logic errors \n",
    "exceptions:index error,filenotfounderror,import error,value error,arithmetic error etc..\n",
    "checking errors"
   ]
  },
  {
   "cell_type": "markdown",
   "id": "51baff57",
   "metadata": {},
   "source": [
    "syntax error"
   ]
  },
  {
   "cell_type": "code",
   "execution_count": 2,
   "id": "d0c19a04",
   "metadata": {
    "scrolled": true
   },
   "outputs": [
    {
     "ename": "SyntaxError",
     "evalue": "invalid syntax (<ipython-input-2-2f6d0e2e673e>, line 1)",
     "output_type": "error",
     "traceback": [
      "\u001b[1;36m  File \u001b[1;32m\"<ipython-input-2-2f6d0e2e673e>\"\u001b[1;36m, line \u001b[1;32m1\u001b[0m\n\u001b[1;33m    while True print('Hello world')\u001b[0m\n\u001b[1;37m               ^\u001b[0m\n\u001b[1;31mSyntaxError\u001b[0m\u001b[1;31m:\u001b[0m invalid syntax\n"
     ]
    }
   ],
   "source": [
    "while True print('Hello world')"
   ]
  },
  {
   "cell_type": "markdown",
   "id": "4f737918",
   "metadata": {},
   "source": [
    "zero division error"
   ]
  },
  {
   "cell_type": "code",
   "execution_count": 3,
   "id": "f5c1c7b5",
   "metadata": {
    "scrolled": true
   },
   "outputs": [
    {
     "ename": "ZeroDivisionError",
     "evalue": "division by zero",
     "output_type": "error",
     "traceback": [
      "\u001b[1;31m---------------------------------------------------------------------------\u001b[0m",
      "\u001b[1;31mZeroDivisionError\u001b[0m                         Traceback (most recent call last)",
      "\u001b[1;32m<ipython-input-3-d2c0889640ff>\u001b[0m in \u001b[0;36m<module>\u001b[1;34m\u001b[0m\n\u001b[1;32m----> 1\u001b[1;33m \u001b[0mprint\u001b[0m\u001b[1;33m(\u001b[0m\u001b[1;36m2\u001b[0m\u001b[1;33m/\u001b[0m\u001b[1;36m0\u001b[0m\u001b[1;33m)\u001b[0m\u001b[1;33m\u001b[0m\u001b[1;33m\u001b[0m\u001b[0m\n\u001b[0m",
      "\u001b[1;31mZeroDivisionError\u001b[0m: division by zero"
     ]
    }
   ],
   "source": [
    "print(2/0)"
   ]
  },
  {
   "cell_type": "markdown",
   "id": "b3852a7e",
   "metadata": {},
   "source": [
    "name error"
   ]
  },
  {
   "cell_type": "code",
   "execution_count": null,
   "id": "31f38678",
   "metadata": {},
   "outputs": [],
   "source": [
    "x = 3\n",
    "print(y)"
   ]
  },
  {
   "cell_type": "markdown",
   "id": "eeef7812",
   "metadata": {},
   "source": [
    "checking error using try"
   ]
  },
  {
   "cell_type": "code",
   "execution_count": 4,
   "id": "e19cd836",
   "metadata": {},
   "outputs": [
    {
     "name": "stdout",
     "output_type": "stream",
     "text": [
      "An exception occurred\n"
     ]
    }
   ],
   "source": [
    "try:\n",
    "  print(x)\n",
    "except:\n",
    "  print(\"An exception occurred\")"
   ]
  },
  {
   "cell_type": "markdown",
   "id": "521b5fae",
   "metadata": {},
   "source": [
    "calculator with try and except"
   ]
  },
  {
   "cell_type": "markdown",
   "id": "2db7ba49",
   "metadata": {},
   "source": []
  },
  {
   "cell_type": "code",
   "execution_count": null,
   "id": "94bea8f0",
   "metadata": {},
   "outputs": [],
   "source": [
    "loop = 1\n",
    "choice = 0\n",
    "while loop ==1:\n",
    "    print(\"Choose\\n1.Add\\n2.Subtract\\n3.Multiply\\n4.Divide\")\n",
    "    n = int(input(\"Enter your choice: \"))\n",
    "    try:\n",
    "        if n == 1:\n",
    "            a = int(input(\"Enter A:\"))\n",
    "            b = int(input(\"Enter B:\"))\n",
    "            c=a+b\n",
    "            print(\"Sum= \",c)\n",
    "        elif n == 2:\n",
    "            a = int(input(\"Enter A:\"))\n",
    "            b = int(input(\"Enter B:\"))\n",
    "            c = a-b\n",
    "            print(\"Difference= \",c)\n",
    "        elif n == 3:\n",
    "            a = int(input(\"Enter A:\"))\n",
    "            b = int(input(\"Enter B:\"))\n",
    "            c = a*b\n",
    "            print(\"Product= \",c)\n",
    "        elif n == 4:\n",
    "            a = int(input(\"Enter A:\"))\n",
    "            b = int(input(\"Enter B:\"))\n",
    "            c = a/b\n",
    "            print(\"Quotient= \",c)\n",
    "        else:\n",
    "            print(\"Invalid Choice\")\n",
    "        finally:\n",
    "            print(\"Thank You\")"
   ]
  },
  {
   "cell_type": "markdown",
   "id": "b0ff9501",
   "metadata": {},
   "source": [
    "print one message if the try block raises a name error and another for other errors"
   ]
  },
  {
   "cell_type": "code",
   "execution_count": null,
   "id": "6dfceaa8",
   "metadata": {},
   "outputs": [],
   "source": [
    "try:\n",
    "  print(x)\n",
    "except NameError:\n",
    "    print(\"variable x is not defined\")\n",
    "except:\n",
    "    print(\"something went wrong\")\n"
   ]
  },
  {
   "cell_type": "markdown",
   "id": "c801b2d4",
   "metadata": {},
   "source": [
    "when try except scenario is not required"
   ]
  },
  {
   "cell_type": "markdown",
   "id": "d4988d09",
   "metadata": {},
   "source": [
    "Exceptions are errors that alter the flow of the program. If the code inside the else is executed then there are no exceptions ."
   ]
  },
  {
   "cell_type": "markdown",
   "id": "97358480",
   "metadata": {},
   "source": [
    "Try getting an input inside the try catch block"
   ]
  },
  {
   "cell_type": "code",
   "execution_count": null,
   "id": "0f53c12a",
   "metadata": {},
   "outputs": [],
   "source": [
    "try:\n",
    "    value = int(input(\"Enter the number: \"))\n",
    "except:\n",
    "    print(\"You have entered invalid value\")"
   ]
  }
 ],
 "metadata": {
  "kernelspec": {
   "display_name": "Python 3",
   "language": "python",
   "name": "python3"
  },
  "language_info": {
   "codemirror_mode": {
    "name": "ipython",
    "version": 3
   },
   "file_extension": ".py",
   "mimetype": "text/x-python",
   "name": "python",
   "nbconvert_exporter": "python",
   "pygments_lexer": "ipython3",
   "version": "3.9.1"
  }
 },
 "nbformat": 4,
 "nbformat_minor": 5
}
