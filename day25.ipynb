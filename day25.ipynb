{
 "cells": [
  {
   "cell_type": "markdown",
   "id": "5cbab151",
   "metadata": {},
   "source": [
    " write a program to convert string to datatime"
   ]
  },
  {
   "cell_type": "code",
   "execution_count": 5,
   "id": "12e4be58",
   "metadata": {},
   "outputs": [
    {
     "name": "stdout",
     "output_type": "stream",
     "text": [
      "The date is 2021-07-27 10:30:21\n"
     ]
    }
   ],
   "source": [
    "from _datetime import datetime\n",
    "datetime_str = '27/07/21 10:30:21'\n",
    "datetime_obj = datetime.strptime(datetime_str, '%d/%m/%y %H:%M:%S')\n",
    "print(\"The date is\", datetime_obj)\n"
   ]
  },
  {
   "cell_type": "markdown",
   "id": "e60a4d95",
   "metadata": {},
   "source": [
    "subract five days from current date"
   ]
  },
  {
   "cell_type": "code",
   "execution_count": 6,
   "id": "605e03d6",
   "metadata": {},
   "outputs": [
    {
     "name": "stdout",
     "output_type": "stream",
     "text": [
      "current_date: 2021-07-09\n",
      "new_date: 2021-07-04\n"
     ]
    }
   ],
   "source": [
    "from _datetime import date, timedelta\n",
    "date = date.today() - timedelta(5)\n",
    "print('current_date:', date.today())\n",
    "print('new_date:', date)"
   ]
  },
  {
   "cell_type": "markdown",
   "id": "51caddf1",
   "metadata": {},
   "source": [
    "convert the date time to datetime using a function"
   ]
  },
  {
   "cell_type": "code",
   "execution_count": 7,
   "id": "a0be98de",
   "metadata": {},
   "outputs": [
    {
     "name": "stdout",
     "output_type": "stream",
     "text": [
      "2021-07-09 00:00:00\n"
     ]
    }
   ],
   "source": [
    "from datetime import datetime, date\n",
    "date = date.today()\n",
    "print(datetime.combine(date, datetime.min.time()))"
   ]
  },
  {
   "cell_type": "markdown",
   "id": "cdfc2d8b",
   "metadata": {},
   "source": [
    "to print next seven days from today"
   ]
  },
  {
   "cell_type": "code",
   "execution_count": 10,
   "id": "cc3cc0d5",
   "metadata": {
    "scrolled": true
   },
   "outputs": [
    {
     "name": "stdout",
     "output_type": "stream",
     "text": [
      "2021-07-09 22:36:14.854228\n",
      "2021-07-10 22:36:14.854228\n",
      "2021-07-11 22:36:14.854228\n",
      "2021-07-12 22:36:14.854228\n",
      "2021-07-13 22:36:14.854228\n",
      "2021-07-14 22:36:14.854228\n",
      "2021-07-15 22:36:14.854228\n"
     ]
    }
   ],
   "source": [
    "import datetime\n",
    "today = datetime.datetime.today()\n",
    "for x in range(0, 7):\n",
    "    print(today + datetime.timedelta(days=x))"
   ]
  }
 ],
 "metadata": {
  "kernelspec": {
   "display_name": "Python 3",
   "language": "python",
   "name": "python3"
  },
  "language_info": {
   "codemirror_mode": {
    "name": "ipython",
    "version": 3
   },
   "file_extension": ".py",
   "mimetype": "text/x-python",
   "name": "python",
   "nbconvert_exporter": "python",
   "pygments_lexer": "ipython3",
   "version": "3.9.1"
  }
 },
 "nbformat": 4,
 "nbformat_minor": 5
}
