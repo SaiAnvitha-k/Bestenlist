{
 "cells": [
  {
   "cell_type": "markdown",
   "id": "798f005b",
   "metadata": {},
   "source": [
    "creating a file"
   ]
  },
  {
   "cell_type": "code",
   "execution_count": 1,
   "id": "87ba3e77",
   "metadata": {},
   "outputs": [],
   "source": [
    "f = open(r\"30days30hoursoperations.txt\",\"w+\")"
   ]
  },
  {
   "cell_type": "markdown",
   "id": "12f1d26a",
   "metadata": {},
   "source": [
    "writing data in it"
   ]
  },
  {
   "cell_type": "code",
   "execution_count": 2,
   "id": "794a2bea",
   "metadata": {},
   "outputs": [
    {
     "data": {
      "text/plain": [
       "37"
      ]
     },
     "execution_count": 2,
     "metadata": {},
     "output_type": "execute_result"
    }
   ],
   "source": [
    "f.write(\"I have completed 10 days successfully\")"
   ]
  },
  {
   "cell_type": "code",
   "execution_count": 3,
   "id": "034af471",
   "metadata": {},
   "outputs": [],
   "source": [
    "f.close()\n"
   ]
  },
  {
   "cell_type": "markdown",
   "id": "bd233794",
   "metadata": {},
   "source": [
    "Appending  the data"
   ]
  },
  {
   "cell_type": "code",
   "execution_count": 4,
   "id": "e3b63e36",
   "metadata": {},
   "outputs": [
    {
     "data": {
      "text/plain": [
       "11"
      ]
     },
     "execution_count": 4,
     "metadata": {},
     "output_type": "execute_result"
    }
   ],
   "source": [
    "f1 = open(r\"30days30hoursoperations.txt\",\"+a\")\n",
    "f1.write(\"Sai Anvitha\")"
   ]
  },
  {
   "cell_type": "markdown",
   "id": "de906cb7",
   "metadata": {},
   "source": [
    "read the file"
   ]
  },
  {
   "cell_type": "code",
   "execution_count": 5,
   "id": "aa12c109",
   "metadata": {},
   "outputs": [
    {
     "name": "stdout",
     "output_type": "stream",
     "text": [
      "I have completed 10 days successfullySai Anvitha\n"
     ]
    }
   ],
   "source": [
    "f1 = open(r\"30days30hoursoperations.txt\",\"r\")\n",
    "print(f1.read())"
   ]
  },
  {
   "cell_type": "markdown",
   "id": "62a72f5d",
   "metadata": {},
   "source": [
    "Close the file"
   ]
  },
  {
   "cell_type": "code",
   "execution_count": 6,
   "id": "7ca74924",
   "metadata": {},
   "outputs": [],
   "source": [
    "f1.close()"
   ]
  }
 ],
 "metadata": {
  "kernelspec": {
   "display_name": "Python 3",
   "language": "python",
   "name": "python3"
  },
  "language_info": {
   "codemirror_mode": {
    "name": "ipython",
    "version": 3
   },
   "file_extension": ".py",
   "mimetype": "text/x-python",
   "name": "python",
   "nbconvert_exporter": "python",
   "pygments_lexer": "ipython3",
   "version": "3.9.1"
  }
 },
 "nbformat": 4,
 "nbformat_minor": 5
}
