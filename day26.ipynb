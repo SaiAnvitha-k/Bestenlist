{
 "cells": [
  {
   "cell_type": "markdown",
   "id": "7fa9d459",
   "metadata": {},
   "source": [
    "enumerate a list and print the counter with list value"
   ]
  },
  {
   "cell_type": "code",
   "execution_count": 1,
   "id": "5706b329",
   "metadata": {},
   "outputs": [
    {
     "name": "stdout",
     "output_type": "stream",
     "text": [
      "[(0, 'John'), (1, 'Hannah'), (2, 'Joe'), (3, 'Dua'), (4, 'Billie')]\n",
      "<enumerate object at 0x000001EB9163EF00>\n"
     ]
    }
   ],
   "source": [
    "list_a = ['John', 'Hannah', 'Joe', 'Dua', 'Billie']\n",
    "print(list(enumerate(list_a)))\n",
    "print(enumerate(list_a))"
   ]
  },
  {
   "cell_type": "markdown",
   "id": "d37f0c33",
   "metadata": {},
   "source": [
    "Enumerate a tuple and print the counter with tuple value"
   ]
  },
  {
   "cell_type": "code",
   "execution_count": 2,
   "id": "05a2eec4",
   "metadata": {},
   "outputs": [
    {
     "name": "stdout",
     "output_type": "stream",
     "text": [
      "((0, 'John'), (1, 'Hannah'), (2, 'Joe'), (3, 'Dua'), (4, 'Billie'))\n"
     ]
    }
   ],
   "source": [
    "tuple_a = ('John', 'Hannah', 'Joe', 'Dua', 'Billie')\n",
    "print(tuple(enumerate(tuple_a)))"
   ]
  }
 ],
 "metadata": {
  "kernelspec": {
   "display_name": "Python 3",
   "language": "python",
   "name": "python3"
  },
  "language_info": {
   "codemirror_mode": {
    "name": "ipython",
    "version": 3
   },
   "file_extension": ".py",
   "mimetype": "text/x-python",
   "name": "python",
   "nbconvert_exporter": "python",
   "pygments_lexer": "ipython3",
   "version": "3.9.1"
  }
 },
 "nbformat": 4,
 "nbformat_minor": 5
}
