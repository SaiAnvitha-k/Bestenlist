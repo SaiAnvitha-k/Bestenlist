{
 "cells": [
  {
   "cell_type": "markdown",
   "id": "f2d49438",
   "metadata": {},
   "source": [
    "Write a python program for all the cases which can check a string contains only certain set of characters(a-z,A-Z,0-9)"
   ]
  },
  {
   "cell_type": "code",
   "execution_count": 1,
   "id": "c07a376d",
   "metadata": {},
   "outputs": [
    {
     "name": "stdout",
     "output_type": "stream",
     "text": [
      "True\n"
     ]
    }
   ],
   "source": [
    "import re\n",
    "def set_of_char(string):\n",
    "  string_a = re.compile(r'[^a-zA-Z0-9]')\n",
    "  string = string_a.search(string)\n",
    "  return not bool(string)\n",
    "print(set_of_char('ANHVCGFasydxh251915'))"
   ]
  },
  {
   "cell_type": "markdown",
   "id": "e6ad2979",
   "metadata": {},
   "source": [
    "python program that matches a word 'ab'"
   ]
  },
  {
   "cell_type": "code",
   "execution_count": 6,
   "id": "6b45d766",
   "metadata": {},
   "outputs": [
    {
     "name": "stdout",
     "output_type": "stream",
     "text": [
      "a match\n"
     ]
    }
   ],
   "source": [
    "import re\n",
    "def match(string):\n",
    "    x = '\\w*ab\\w*'\n",
    "    if re.search(x,string):\n",
    "        return 'a match'\n",
    "    else:\n",
    "        return 'not a match'\n",
    "print(match('ab'))"
   ]
  },
  {
   "cell_type": "markdown",
   "id": "86e5a806",
   "metadata": {},
   "source": [
    "python program to check for a number at the end of a word/sentence"
   ]
  },
  {
   "cell_type": "code",
   "execution_count": 5,
   "id": "b76de9cf",
   "metadata": {},
   "outputs": [
    {
     "name": "stdout",
     "output_type": "stream",
     "text": [
      "True\n"
     ]
    }
   ],
   "source": [
    "import re\n",
    "def end(string):\n",
    "    x = re.compile(r'.*[0-9]')\n",
    "    if x.match(string):\n",
    "        return True\n",
    "    else:\n",
    "        return False\n",
    "print(end('cat123'))"
   ]
  },
  {
   "cell_type": "markdown",
   "id": "d8cc9ed3",
   "metadata": {},
   "source": [
    "python program to search the numbers(0-9) of length between 1-3 in a given string"
   ]
  },
  {
   "cell_type": "code",
   "execution_count": 4,
   "id": "6d2baf65",
   "metadata": {},
   "outputs": [
    {
     "name": "stdout",
     "output_type": "stream",
     "text": [
      "1\n",
      "12\n",
      "27\n"
     ]
    }
   ],
   "source": [
    "import re\n",
    "x = re.finditer(r'([0-9]{1,3})','1,12,27')\n",
    "for n in x:\n",
    "    print(n.group(0))"
   ]
  },
  {
   "cell_type": "markdown",
   "id": "78620b7c",
   "metadata": {},
   "source": [
    "python program to match a string contains only uppercase letters"
   ]
  },
  {
   "cell_type": "code",
   "execution_count": 3,
   "id": "a65360b5",
   "metadata": {},
   "outputs": [
    {
     "name": "stdout",
     "output_type": "stream",
     "text": [
      "True\n",
      "False\n"
     ]
    }
   ],
   "source": [
    "import re\n",
    "print(bool(re.match('^[A-Z]+$','HELLO')))\n",
    "print(bool(re.match('^[A-Z]+$','HEllo')))"
   ]
  }
 ],
 "metadata": {
  "kernelspec": {
   "display_name": "Python 3",
   "language": "python",
   "name": "python3"
  },
  "language_info": {
   "codemirror_mode": {
    "name": "ipython",
    "version": 3
   },
   "file_extension": ".py",
   "mimetype": "text/x-python",
   "name": "python",
   "nbconvert_exporter": "python",
   "pygments_lexer": "ipython3",
   "version": "3.9.1"
  }
 },
 "nbformat": 4,
 "nbformat_minor": 5
}
